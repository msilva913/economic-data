{
 "cells": [
  {
   "cell_type": "code",
   "execution_count": 2,
   "metadata": {},
   "outputs": [],
   "source": [
    "import pandas as pd\n",
    "import matplotlib.pyplot as plt\n",
    "import fredpy as fp\n",
    "import numpy as np"
   ]
  },
  {
   "cell_type": "code",
   "execution_count": 3,
   "metadata": {},
   "outputs": [],
   "source": [
    "# Import data from Shiller's website, using only date and housing price index columns\n",
    "data = pd.read_excel('http://www.econ.yale.edu/~shiller/data/Fig3-1.xls',sheet_name='Data',skiprows=6,index_col=0)['From fig2.1Revised2011.xls']\n",
    "\n",
    "# Drop missing data from end\n",
    "data = data.dropna()\n",
    "\n",
    "# Parse date numbers into strings and set index\n",
    "data.index = pd.DatetimeIndex([str(int(1+round((d-np.floor(d))*12))).zfill(2)+'-01-'+str(int(np.floor(d))) for d in data.index])\n",
    "\n",
    "# Start data in first ful year available.\n",
    "data = data.loc['1954-01-01':]\n",
    "\n",
    "# Reset index to monthly frequency\n",
    "data.index = pd.date_range(start=data.index[0], end=data.index[-1], freq='MS')"
   ]
  },
  {
   "cell_type": "code",
   "execution_count": 4,
   "metadata": {},
   "outputs": [],
   "source": [
    "# Import CPI data\n",
    "cpi = fp.series('CPIAUCSL')\n",
    "\n",
    "# Import PCE deflator data\n",
    "pce = fp.series('PCEPI')"
   ]
  },
  {
   "cell_type": "code",
   "execution_count": 5,
   "metadata": {},
   "outputs": [],
   "source": [
    "# Create DataFrame with monthly data\n",
    "df = pd.concat([data,cpi.data,pce.data],axis=1).dropna()\n",
    "cpi_col = 'cpi'+' ('+cpi.units.split(' ')[1]+')'\n",
    "pce_col = 'pce'+' ('+pce.units.split(' ')[1]+')'\n",
    "df.columns = ['hpi',cpi_col,pce_col]\n",
    "\n",
    "df['real hpi (cpi)'] = df.hpi/df[cpi_col]*100\n",
    "df['real hpi (pce)'] = df.hpi/df[pce_col]*100\n",
    "                          \n",
    "# Export data\n",
    "df.to_csv('hpi_monthly.csv',index=False)"
   ]
  },
  {
   "cell_type": "code",
   "execution_count": 6,
   "metadata": {},
   "outputs": [],
   "source": [
    "# Plot real house price index, with pce delfated series normalized to CPI base year\n",
    "fig = plt.figure(figsize=(12,4))\n",
    "ax = fig.add_subplot(1,1,1)\n",
    "(df['real hpi (pce)']*pce.data.loc['1983-08-01']/100).plot(lw=2)\n",
    "df['real hpi (cpi)'].plot(lw=2)\n",
    "\n",
    "ax.legend(loc='center left', bbox_to_anchor=(1, 0.5))\n",
    "\n",
    "ax.set_title('Both real HPI measures w common base: '+cpi.units.split(' ')[1])\n",
    "ax.grid(ls=':')"
   ]
  },
  {
   "cell_type": "code",
   "execution_count": 7,
   "metadata": {
    "scrolled": true
   },
   "outputs": [],
   "source": [
    "# Create DataFrame with quarterly data\n",
    "df = df.asfreq('QS')\n",
    "                          \n",
    "# Export data\n",
    "df.to_csv('hpi_quarterly.csv',index=False)"
   ]
  }
 ],
 "metadata": {
  "kernelspec": {
   "display_name": "Python 3",
   "language": "python",
   "name": "python3"
  },
  "language_info": {
   "codemirror_mode": {
    "name": "ipython",
    "version": 3
   },
   "file_extension": ".py",
   "mimetype": "text/x-python",
   "name": "python",
   "nbconvert_exporter": "python",
   "pygments_lexer": "ipython3",
   "version": "3.8.5"
  }
 },
 "nbformat": 4,
 "nbformat_minor": 2
}
