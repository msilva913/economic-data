{
 "cells": [
  {
   "cell_type": "markdown",
   "metadata": {},
   "source": [
    "# About\n",
    "\n",
    "This program downloads, manages, and exports to .csv files inflation forecast data from the Federal Reserve Bank of Philadelphia, and actual inflation and interest rate data from FRED. The purpose is to learn about historical *ex ante* real interest rates in the US."
   ]
  },
  {
   "cell_type": "code",
   "execution_count": null,
   "metadata": {},
   "outputs": [],
   "source": [
    "import numpy as np\n",
    "import pandas as pd\n",
    "import fredpy as fp\n",
    "import requests\n",
    "import matplotlib.pyplot as plt\n",
    "plt.style.use('classic')\n",
    "%matplotlib inline"
   ]
  },
  {
   "cell_type": "markdown",
   "metadata": {},
   "source": [
    "# Import forecast data"
   ]
  },
  {
   "cell_type": "code",
   "execution_count": null,
   "metadata": {
    "scrolled": false
   },
   "outputs": [],
   "source": [
    "url = \"https://www.philadelphiafed.org/-/media/research-and-data/real-time-center/survey-of-professional-forecasters/historical-data/inflation.xls?la=en\"\n",
    "r = requests.get(url,verify=False)\n",
    "with open(\"../xls/inflationForecasts\", \"wb\") as code:\n",
    "    code.write(r.content)\n",
    "    \n",
    "url = \"https://www.philadelphiafed.org/-/media/research-and-data/real-time-center/survey-of-professional-forecasters/historical-data/medianlevel.xls?la=en\"\n",
    "r = requests.get(url,verify=False)\n",
    "with open(\"../xls/medianLevel.xls\", \"wb\") as code:\n",
    "    code.write(r.content)"
   ]
  },
  {
   "cell_type": "code",
   "execution_count": null,
   "metadata": {},
   "outputs": [],
   "source": [
    "inflation_forecasts = pd.read_excel('../xls/inflationForecasts.xls')\n",
    "inflation_forecasts=inflation_forecasts.interpolate()"
   ]
  },
  {
   "cell_type": "code",
   "execution_count": null,
   "metadata": {
    "scrolled": true
   },
   "outputs": [],
   "source": [
    "deflator_forecasts = pd.read_excel('../xls/medianLevel.xls',sheet_name = 'PGDP')\n",
    "deflator_forecasts=deflator_forecasts.interpolate()\n",
    "deflator_forecasts = deflator_forecasts.iloc[5:]"
   ]
  },
  {
   "cell_type": "code",
   "execution_count": null,
   "metadata": {},
   "outputs": [],
   "source": [
    "cpi_forecasts = pd.read_excel('../xls/medianLevel.xls',sheet_name = 'CPI')\n",
    "cpi_forecasts = cpi_forecasts.iloc[5:]\n",
    "cpi_forecasts=cpi_forecasts.interpolate()"
   ]
  },
  {
   "cell_type": "markdown",
   "metadata": {},
   "source": [
    "## GDP deflator inflation forecasts"
   ]
  },
  {
   "cell_type": "code",
   "execution_count": null,
   "metadata": {},
   "outputs": [],
   "source": [
    "# Initialize forecast lists\n",
    "forecast_1q = []\n",
    "forecast_2q = []\n",
    "forecast_1y = []\n",
    "\n",
    "# Associate forecasts with dates. The date should coincide with the start of the period for which the forecast applies.\n",
    "dates = []\n",
    "for i,ind in enumerate(deflator_forecasts.index):\n",
    "    year =int(deflator_forecasts.iloc[i]['YEAR'])\n",
    "    quart=int(deflator_forecasts.iloc[i]['QUARTER'])\n",
    "    if quart == 1:\n",
    "        month = '01'\n",
    "    elif quart == 2:\n",
    "        month = '04'\n",
    "    elif quart == 3:\n",
    "        month = '07'\n",
    "    else:\n",
    "        month = '10'\n",
    "        year=year\n",
    "    date = month+'-01-'+str(year)\n",
    "    dates.append(date)\n",
    "    \n",
    "    forecast_1q.append(400*(deflator_forecasts.iloc[i]['PGDP3']/deflator_forecasts.iloc[i]['PGDP2']-1))\n",
    "    forecast_2q.append(200*(deflator_forecasts.iloc[i]['PGDP4']/deflator_forecasts.iloc[i]['PGDP2']-1))\n",
    "    forecast_1y.append(100*(deflator_forecasts.iloc[i]['PGDP6']/deflator_forecasts.iloc[i]['PGDP2']-1))\n",
    "\n",
    "# Create FRED instances\n",
    "\n",
    "defl_forecast_1q = fp.to_fred_series(data = forecast_1q,dates = dates,frequency='Quarterly')\n",
    "defl_forecast_2q = fp.to_fred_series(data = forecast_2q,dates = dates,frequency='Quarterly')\n",
    "defl_forecast_1y = fp.to_fred_series(data = forecast_1y,dates = dates,frequency='Quarterly')\n",
    "\n",
    "deflator_frame = pd.DataFrame({'deflator inflation - 3mo forecast':defl_forecast_1q.data,\n",
    "                          'deflator inflation - 6mo forecast':defl_forecast_2q.data,\n",
    "                          'deflator inflation - 1yr forecast':defl_forecast_1y.data})"
   ]
  },
  {
   "cell_type": "markdown",
   "metadata": {},
   "source": [
    "## CPI inflation forecasts"
   ]
  },
  {
   "cell_type": "code",
   "execution_count": null,
   "metadata": {},
   "outputs": [],
   "source": [
    "# Initialize forecast lists\n",
    "forecast_1q = []\n",
    "forecast_2q = []\n",
    "forecast_1y = []\n",
    "\n",
    "# Associate forecasts with dates. The date should coincide with the start of the period for which the forecast applies.\n",
    "dates = []\n",
    "for i,ind in enumerate(cpi_forecasts.index):\n",
    "    year =int(cpi_forecasts.iloc[i]['YEAR'])\n",
    "    quart=int(cpi_forecasts.iloc[i]['QUARTER'])\n",
    "    if quart == 1:\n",
    "        month = '01'\n",
    "    elif quart == 2:\n",
    "        month = '04'\n",
    "    elif quart == 3:\n",
    "        month = '07'\n",
    "    else:\n",
    "        month = '10'\n",
    "        year=year\n",
    "    date = month+'-01-'+str(year)\n",
    "    dates.append(date)\n",
    "    \n",
    "    forecast_1q.append(cpi_forecasts.iloc[i]['CPI3'])\n",
    "    forecast_2q.append(100*(((1 + cpi_forecasts.iloc[i]['CPI3']/100)*(1 + cpi_forecasts.iloc[i]['CPI4']/100))**(1/2)-1))\n",
    "    forecast_1y.append(100*(((1 + cpi_forecasts.iloc[i]['CPI3']/100)*(1 + cpi_forecasts.iloc[i]['CPI4']/100)*(1 + cpi_forecasts.iloc[i]['CPI5']/100)*(1 + cpi_forecasts.iloc[i]['CPI6']/100))**(1/4)-1))\n",
    "    \n",
    "\n",
    "# Create FRED instances\n",
    "\n",
    "cpi_forecast_1q = fp.to_fred_series(data = forecast_1q,dates=dates)\n",
    "cpi_forecast_2q = fp.to_fred_series(data = forecast_2q,dates=dates)\n",
    "cpi_forecast_1y = fp.to_fred_series(data = forecast_1y,dates=dates)\n",
    "\n",
    "\n",
    "cpi_frame = pd.DataFrame({'cpi inflation - 3mo forecast':cpi_forecast_1q.data,\n",
    "                          'cpi inflation - 6mo forecast':cpi_forecast_2q.data,\n",
    "                          'cpi inflation - 1yr forecast':cpi_forecast_1y.data,})"
   ]
  },
  {
   "cell_type": "code",
   "execution_count": null,
   "metadata": {},
   "outputs": [],
   "source": [
    "fr = pd.concat([cpi_frame,deflator_frame],axis=1)"
   ]
  },
  {
   "cell_type": "markdown",
   "metadata": {},
   "source": [
    "## Long-run CPI and gdp deflator forecasts"
   ]
  },
  {
   "cell_type": "code",
   "execution_count": null,
   "metadata": {},
   "outputs": [],
   "source": [
    "cpiForecast_10y = []\n",
    "\n",
    "# 3.3 Associate forecasts with dates. The date should coincide with the start of the period for which the forecast applies.\n",
    "dates = []\n",
    "for i,ind in enumerate(inflation_forecasts.index):\n",
    "    year =int(inflation_forecasts.iloc[i]['YEAR'])\n",
    "    quart=int(inflation_forecasts.iloc[i]['QUARTER'])\n",
    "    if quart == 1:\n",
    "        month = '01'\n",
    "    elif quart == 2:\n",
    "        month = '04'\n",
    "    elif quart == 3:\n",
    "        month = '07'\n",
    "    else:\n",
    "        month = '10'\n",
    "        year=year\n",
    "    date = month+'-01-'+str(year)\n",
    "    dates.append(date)\n",
    "    \n",
    "    cpiForecast_10y.append(inflation_forecasts.iloc[i]['INFCPI10YR'])\n",
    "\n",
    "# # 3.4 Create the FRED instances\n",
    "cpi_forecast_10y = fp.to_fred_series(data= cpiForecast_10y,dates=dates)\n",
    "long_run_frame = pd.DataFrame({'cpi inflation - 10yr forecast':cpi_forecast_10y.data})"
   ]
  },
  {
   "cell_type": "code",
   "execution_count": null,
   "metadata": {},
   "outputs": [],
   "source": [
    "fr = pd.concat([cpi_frame,deflator_frame,long_run_frame],axis=1)"
   ]
  },
  {
   "cell_type": "code",
   "execution_count": null,
   "metadata": {},
   "outputs": [],
   "source": [
    "inflation_forecasts_frame = pd.concat([long_run_frame,cpi_frame,deflator_frame],axis=1)\n",
    "\n",
    "fig = plt.figure(figsize = (12,8))\n",
    "for c in inflation_forecasts_frame.columns:\n",
    "    plt.plot_date(inflation_forecasts_frame.index,inflation_forecasts_frame[c],'-',lw=4,alpha = 0.6)\n",
    "    \n",
    "plt.legend()\n",
    "plt.grid()"
   ]
  },
  {
   "cell_type": "markdown",
   "metadata": {},
   "source": [
    "## Actual data"
   ]
  },
  {
   "cell_type": "code",
   "execution_count": null,
   "metadata": {},
   "outputs": [],
   "source": [
    "interest3mo = fp.series('TB3MS').as_frequency('Q')\n",
    "interest6mo = fp.series('TB6MS').as_frequency('Q')\n",
    "interest1yr = fp.series('GS1').as_frequency('Q')\n",
    "interest10yr= fp.series('GS10').as_frequency('Q')\n",
    "\n",
    "interest3mo,interest6mo,interest1yr,interest10yr = fp.window_equalize([interest3mo,interest6mo,interest1yr,interest10yr])\n",
    "\n",
    "interest_frame = pd.DataFrame({'interest 3mo':interest3mo.data,\n",
    "                             'interest 6mo':interest6mo.data,\n",
    "                             'interest 1yr':interest1yr.data,\n",
    "                             'interest 10yr':interest10yr.data})"
   ]
  },
  {
   "cell_type": "code",
   "execution_count": null,
   "metadata": {},
   "outputs": [],
   "source": [
    "fr = pd.concat([inflation_forecasts_frame,interest_frame],axis=1)"
   ]
  },
  {
   "cell_type": "code",
   "execution_count": null,
   "metadata": {},
   "outputs": [],
   "source": [
    "defl_3mo = fp.series('GDPDEF')\n",
    "defl_6mo = fp.series('GDPDEF')\n",
    "defl_1yr = fp.series('GDPDEF')\n",
    "\n",
    "defl_3mo.pc(method='forward',annualized=True)\n",
    "\n",
    "defl_6mo.data = (defl_6mo.data.shift(-2)/defl_6mo.data-1)*200\n",
    "defl_6mo = defl_6mo.drop_nan()\n",
    "\n",
    "defl_1yr.data = (defl_1yr.data.shift(-4)/defl_1yr.data-1)*100\n",
    "defl_1yr = defl_1yr.drop_nan()\n",
    "\n",
    "defl_3mo_frame = pd.DataFrame({'deflator inflation - 3mo actual':defl_3mo.data})\n",
    "defl_6mo_frame = pd.DataFrame({'deflator inflation - 6mo actual':defl_6mo.data})\n",
    "defl_1yr_frame = pd.DataFrame({'deflator inflation - 1yr actual':defl_1yr.data})"
   ]
  },
  {
   "cell_type": "code",
   "execution_count": null,
   "metadata": {},
   "outputs": [],
   "source": [
    "fr = pd.concat([fr,defl_1yr_frame],axis=1)"
   ]
  },
  {
   "cell_type": "code",
   "execution_count": null,
   "metadata": {},
   "outputs": [],
   "source": [
    "cpi_3mo = fp.series('CPIAUCSL').as_frequency('Q')\n",
    "cpi_6mo = fp.series('CPIAUCSL').as_frequency('Q')\n",
    "cpi_1yr = fp.series('CPIAUCSL').as_frequency('Q')\n",
    "cpi_10yr = fp.series('CPIAUCSL').as_frequency('Q')\n",
    "\n",
    "\n",
    "cpi_3mo.pc(method='forward',annualized=True)\n",
    "\n",
    "cpi_6mo.data = (cpi_6mo.data.shift(-2)/cpi_6mo.data-1)*200\n",
    "cpi_6mo = cpi_6mo.drop_nan()\n",
    "\n",
    "\n",
    "cpi_1yr.data = (cpi_1yr.data.shift(-4)/cpi_1yr.data-1)*100\n",
    "cpi_1yr = cpi_1yr.drop_nan()\n",
    "\n",
    "\n",
    "cpi_10yr.data = ((cpi_10yr.data.shift(-40)/cpi_10yr.data)**(1/40)-1)*400\n",
    "cpi_10yr = cpi_10yr.drop_nan()\n",
    "\n",
    "\n",
    "cpi_3mo_frame = pd.DataFrame({'cpi inflation - 3mo actual':cpi_3mo.data})\n",
    "\n",
    "cpi_6mo_frame = pd.DataFrame({'cpi inflation - 6mo actual':cpi_6mo.data})\n",
    "\n",
    "cpi_1yr_frame = pd.DataFrame({'cpi inflation - 1yr actual':cpi_1yr.data})\n",
    "\n",
    "cpi_10yr_frame = pd.DataFrame({'cpi inflation - 10yr actual':cpi_10yr.data})"
   ]
  },
  {
   "cell_type": "code",
   "execution_count": null,
   "metadata": {},
   "outputs": [],
   "source": [
    "fr = pd.concat([fr,cpi_3mo_frame,cpi_6mo_frame,cpi_1yr_frame,cpi_10yr_frame],axis=1)"
   ]
  },
  {
   "cell_type": "code",
   "execution_count": null,
   "metadata": {},
   "outputs": [],
   "source": [
    "actual_rates_frame = pd.concat([interest_frame,defl_3mo_frame,defl_6mo_frame,defl_1yr_frame,cpi_3mo_frame,\n",
    "                                cpi_6mo_frame,cpi_1yr_frame,cpi_10yr_frame],axis = 1)"
   ]
  },
  {
   "cell_type": "code",
   "execution_count": null,
   "metadata": {},
   "outputs": [],
   "source": [
    "full_data_frame = pd.concat([actual_rates_frame,inflation_forecasts_frame],axis=1)"
   ]
  },
  {
   "cell_type": "code",
   "execution_count": null,
   "metadata": {},
   "outputs": [],
   "source": [
    "full_data_frame.columns\n",
    "full_data_frame[[\n",
    "        'interest 3mo', 'interest 6mo', 'interest 1yr', 'interest 10yr',\n",
    "       'deflator inflation - 3mo actual', 'deflator inflation - 6mo actual',\n",
    "       'deflator inflation - 1yr actual', 'cpi inflation - 3mo actual',\n",
    "       'cpi inflation - 6mo actual', 'cpi inflation - 1yr actual','cpi inflation - 10yr actual',\n",
    "       'cpi inflation - 1yr forecast', 'cpi inflation - 3mo forecast',\n",
    "       'cpi inflation - 6mo forecast', 'deflator inflation - 1yr forecast','cpi inflation - 10yr forecast',\n",
    "       'deflator inflation - 3mo forecast','deflator inflation - 6mo forecast']].to_csv('../csv/inflation_forecast_data.csv')\n"
   ]
  },
  {
   "cell_type": "code",
   "execution_count": null,
   "metadata": {},
   "outputs": [],
   "source": [
    "fig = plt.figure(figsize = (12,8))\n",
    "for c in full_data_frame.columns:\n",
    "    plt.plot_date(full_data_frame.index,full_data_frame[c],'-',lw=4,alpha = 0.6)\n",
    "    \n",
    "plt.grid()"
   ]
  },
  {
   "cell_type": "code",
   "execution_count": null,
   "metadata": {},
   "outputs": [],
   "source": [
    "full_data_frame[['interest 1yr','deflator inflation - 1yr forecast','deflator inflation - 1yr actual']].dropna().plot()\n",
    "# full_data_frame[].dropna().plot()"
   ]
  },
  {
   "cell_type": "code",
   "execution_count": null,
   "metadata": {},
   "outputs": [],
   "source": [
    "data_frame = full_data_frame[['deflator inflation - 1yr forecast','deflator inflation - 1yr actual','interest 1yr'   ]]\n",
    "data_frame = data_frame.dropna(subset = ['deflator inflation - 1yr forecast','interest 1yr'])\n",
    "# data_frame = data_frame.resample('A', how='mean',convention='start',kind='timestamp')\n",
    "\n",
    "r = data_frame['interest 1yr'] - full_data_frame['deflator inflation - 1yr forecast']\n",
    "pie = data_frame['deflator inflation - 1yr forecast']\n",
    "pi = data_frame['deflator inflation - 1yr actual']\n",
    "i = data_frame['interest 1yr']"
   ]
  },
  {
   "cell_type": "code",
   "execution_count": null,
   "metadata": {},
   "outputs": [],
   "source": [
    "pie.plot(lw=3,alpha =.65)\n",
    "pi.plot(lw=3,alpha =.65)\n",
    "plt.grid()"
   ]
  },
  {
   "cell_type": "code",
   "execution_count": null,
   "metadata": {},
   "outputs": [],
   "source": []
  }
 ],
 "metadata": {
  "kernelspec": {
   "display_name": "Python 3 (ipykernel)",
   "language": "python",
   "name": "python3"
  },
  "language_info": {
   "codemirror_mode": {
    "name": "ipython",
    "version": 3
   },
   "file_extension": ".py",
   "mimetype": "text/x-python",
   "name": "python",
   "nbconvert_exporter": "python",
   "pygments_lexer": "ipython3",
   "version": "3.9.7"
  }
 },
 "nbformat": 4,
 "nbformat_minor": 1
}
