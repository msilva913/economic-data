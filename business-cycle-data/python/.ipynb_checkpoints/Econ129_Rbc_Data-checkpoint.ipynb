{
 "cells": [
  {
   "cell_type": "markdown",
   "metadata": {},
   "source": [
    "# US Production Data for RBC Modeling"
   ]
  },
  {
   "cell_type": "code",
   "execution_count": 1,
   "metadata": {},
   "outputs": [],
   "source": [
    "import pandas as pd\n",
    "import numpy as np\n",
    "import fredpy as fp\n",
    "import matplotlib.pyplot as plt\n",
    "plt.style.use('classic')\n",
    "%matplotlib inline"
   ]
  },
  {
   "cell_type": "code",
   "execution_count": 2,
   "metadata": {},
   "outputs": [],
   "source": [
    "# Load API key\n",
    "fp.api_key = fp.load_api_key('fred_api_key.txt')\n",
    "\n",
    "# Download nominal GDP, nominal personal consumption expenditures, nominal\n",
    "# gross private domestic investment, the GDP deflator, and an index of hours \n",
    "# worked in the nonfarm business sector produced by the BLS. All data are\n",
    "# from FRED and are quarterly.\n",
    "gdp = fp.series('GDP')\n",
    "cons = fp.series('PCEC')\n",
    "invest = fp.series('GPDI')\n",
    "hours = fp.series('HOANBS')\n",
    "defl = fp.series('GDPDEF')\n",
    "\n",
    "# Make sure that all of the downloaded series have the same data ranges\n",
    "gdp,cons,invest,hours,defl = fp.window_equalize([gdp,cons,invest,hours,defl])\n",
    "\n",
    "# Compute real GDP, real consumption, real investment\n",
    "gdp.data = gdp.data/defl.data*100\n",
    "cons.data = cons.data/defl.data*100\n",
    "invest.data = invest.data/defl.data*100"
   ]
  },
  {
   "cell_type": "markdown",
   "metadata": {},
   "source": [
    "Next, compute the quarterly capital stock series for the US using the perpetual inventory method. The discrete-time Solow growth model is given by:\n",
    "\n",
    "\\begin{align}\n",
    "Y_t & = A_tK_t^{\\alpha}L_t^{1-\\alpha} \\tag{1}\\\\\n",
    "C_t & = (1-s)Y_t \\tag{2}\\\\\n",
    "Y_t & = C_t + I_t \\tag{3}\\\\\n",
    "K_{t+1} & = I_t + (1-\\delta)K_t \\tag{4}\\\\\n",
    "A_{t+1} & = (1+g)A_t \\tag{5}\\\\\n",
    "L_{t+1} & = (1+n)L_t \\tag{6}.\n",
    "\\end{align}\n",
    "\n",
    "Here the model is assumed to be quarterly so $n$ is the *quarterly* growth rate of labor hours, $g$ is the *quarterly* growth rate of TFP, and $\\delta$ is the *quarterly* rate of depreciation of the capital stock. Given a value of the quarterly depreciation rate $\\delta$, an investment series $I_t$, and an initial capital stock $K_0$, the law of motion for the capital stock, Equation (4), can be used to compute an implied capital series. But we don't know $K_0$ or $\\delta$ so we'll have to *calibrate* these values using statistics computed from the data that we've already obtained.\n",
    "\n",
    "Let lowercase letters denote a variable that's been divided by $A_t^{1/(1-\\alpha)}L_t$. E.g.,\n",
    "\n",
    "\\begin{align}\n",
    "y_t = \\frac{Y_t}{A_t^{1/(1-\\alpha)}L_t}\\tag{7}\n",
    "\\end{align}\n",
    "\n",
    "Then (after substituting consumption from the model), the scaled version of the model can be written as: \n",
    "\n",
    "\\begin{align}\n",
    "y_t & = k_t^{\\alpha} \\tag{8}\\\\\n",
    "i_t & = sy_t \\tag{9}\\\\\n",
    "k_{t+1} & = i_t + (1-\\delta-n-g')k_t,\\tag{10}\n",
    "\\end{align}\n",
    "\n",
    "where $g' = g/(1-\\alpha)$ is the growth rate of $A_t^{1/(1-\\alpha)}$. In the steady state:\n",
    "\n",
    "\\begin{align}\n",
    "k & = \\left(\\frac{s}{\\delta+n+g'}\\right)^{\\frac{1}{1-\\alpha}} \\tag{11}\n",
    "\\end{align}\n",
    "\n",
    "which means that the ratio of capital to output is constant:\n",
    "\n",
    "\\begin{align}\n",
    "\\frac{k}{y} & = \\frac{s}{\\delta+n+g'} \\tag{12}\n",
    "\\end{align}\n",
    "\n",
    "and therefore the steady state ratio of depreciation to output is:\n",
    "\n",
    "\\begin{align}\n",
    "\\overline{\\delta K/ Y} & = \\frac{\\delta s}{\\delta + n + g'} \\tag{13}\n",
    "\\end{align}\n",
    "\n",
    "where $\\overline{\\delta K/ Y}$ is the long-run average ratio of depreciation to output. We can use Equation (13) to calibrate $\\delta$ given $\\overline{\\delta K/ Y}$, $s$, $n$, and $g'$.\n",
    "\n",
    "Furthermore, in the steady state, the growth rate of output is constant:\n",
    "\n",
    "\\begin{align}\n",
    "\\frac{\\Delta Y}{Y} & = n + g' \\tag{14}\n",
    "\\end{align} \n",
    "\n",
    "\n",
    "1. Assume $\\alpha = 0.35$.\n",
    "2. Calibrate $s$ as the average of ratio of investment to GDP.\n",
    "3. Calibrate $n$ as the average quarterly growth rate of labor hours.\n",
    "4. Calibrate $g'$ as the average quarterly growth rate of real GDP minus n.\n",
    "5. Calculate the average ratio of depreciation to GDP $\\overline{\\delta K/ Y}$ and use the result to calibrate $\\delta$. That is, find the average ratio of Current-Cost Depreciation of Fixed Assets (FRED series ID: M1TTOTL1ES000) to GDP (FRED series ID: GDPA). Then calibrate $\\delta$ from the following steady state relationship:\n",
    "\\begin{align}\n",
    "\\delta & = \\frac{\\left( \\overline{\\delta K/ Y} \\right)\\left(n + g' \\right)}{s - \\left( \\overline{\\delta K/ Y} \\right)} \\tag{15}\n",
    "\\end{align}\n",
    "6. Calibrate $K_0$ by asusming that the capital stock is initially equal to its steady state value:\n",
    "\\begin{align}\n",
    "K_0 & = \\left(\\frac{s}{\\delta + n + g'}\\right) Y_0 \\tag{16}\n",
    "\\end{align}\n",
    "\n",
    "Then, armed with calibrated values for $K_0$ and $\\delta$, compute $K_1, K_2, \\ldots$ recursively. See Timothy Kehoe's notes for more information on the perpetual inventory method:\n",
    "\n",
    "http://users.econ.umn.edu/~tkehoe/classes/GrowthAccountingNotes.pdf\n",
    "\n"
   ]
  },
  {
   "cell_type": "code",
   "execution_count": 3,
   "metadata": {},
   "outputs": [
    {
     "name": "stdout",
     "output_type": "stream",
     "text": [
      "Avg saving rate:         0.17289\n",
      "Avg annual labor growth: 0.01241\n",
      "Avg annual gdp growth:   0.01872\n",
      "Avg annual dep rate:     0.12786\n"
     ]
    },
    {
     "data": {
      "image/png": "[encoded data removed]",
      "text/plain": [
       "<Figure size 432x288 with 1 Axes>"
      ]
     },
     "metadata": {
      "needs_background": "light"
     },
     "output_type": "display_data"
    }
   ],
   "source": [
    "# Set the capital share of income\n",
    "alpha = 0.35\n",
    "\n",
    "# Average saving rate\n",
    "s = np.mean(invest.data/gdp.data)\n",
    "\n",
    "# Average quarterly labor hours growth rate\n",
    "n = (hours.data[-1]/hours.data[0])**(1/(len(hours.data)-1)) - 1\n",
    "\n",
    "# Average quarterly real GDP growth rate\n",
    "g = ((gdp.data[-1]/gdp.data[0])**(1/(len(gdp.data)-1)) - 1) - n\n",
    "\n",
    "# Compute annual depreciation rate\n",
    "depA = fp.series('M1TTOTL1ES000')\n",
    "gdpA = fp.series('gdpa')\n",
    "\n",
    "gdpA = gdpA.window([gdp.dates[0],gdp.dates[-1]])\n",
    "gdpA,depA = fp.window_equalize([gdpA,depA])\n",
    "\n",
    "deltaKY = np.mean(depA.data/gdpA.data)\n",
    "delta = (n+g)*deltaKY/(s-deltaKY)\n",
    "\n",
    "# print calibrated values:\n",
    "print('Avg saving rate:        ',round(s,5))\n",
    "print('Avg annual labor growth:',round(4*n,5))\n",
    "print('Avg annual gdp growth:  ',round(4*g,5))\n",
    "print('Avg annual dep rate:    ',round(4*delta,5))\n",
    "\n",
    "# Construct the capital series. Note that the GPD and investment data are reported on an annualized basis\n",
    "# so divide by 4 to get quarterly data.\n",
    "capital = np.zeros(len(gdp.data))\n",
    "capital[0] = gdp.data[0]/4*s/(n+g+delta)\n",
    "\n",
    "for t in range(len(gdp.data)-1):\n",
    "    capital[t+1] = invest.data[t]/4 + (1-delta)*capital[t]\n",
    "\n",
    "# Save in a fredpy series\n",
    "capital = fp.toFredSeries(data = capital,dates =gdp.dates,units = gdp.units,title='Capital stock of the US',frequency='Quarterly')\n",
    "\n",
    "# plot the computed capital series\n",
    "plt.plot(capital.datetimes,capital.data,'-',lw=3,alpha = 0.7)\n",
    "plt.ylabel(capital.units)\n",
    "plt.title(capital.title)\n",
    "plt.grid()"
   ]
  },
  {
   "cell_type": "code",
   "execution_count": 4,
   "metadata": {},
   "outputs": [
    {
     "data": {
      "image/png": "[encoded data removed]",
      "text/plain": [
       "<Figure size 432x288 with 1 Axes>"
      ]
     },
     "metadata": {
      "needs_background": "light"
     },
     "output_type": "display_data"
    }
   ],
   "source": [
    "# Compute TFP\n",
    "tfp = gdp.data/capital.data**alpha/hours.data**(1-alpha)\n",
    "tfp = fp.toFredSeries(data = tfp,dates =gdp.dates,units = gdp.units,title='TFP of the US',frequency='Quarterly')\n",
    "\n",
    "# Plot the computed capital series\n",
    "plt.plot(tfp.datetimes,tfp.data,'-',lw=3,alpha = 0.7)\n",
    "plt.ylabel(tfp.units)\n",
    "plt.title(tfp.title)\n",
    "plt.grid()"
   ]
  },
  {
   "cell_type": "code",
   "execution_count": 5,
   "metadata": {
    "scrolled": true
   },
   "outputs": [],
   "source": [
    "# Convert each series into per capita using civilian pop 16 and over\n",
    "gdp = gdp.percapita(civ_pop=True)\n",
    "cons = cons.percapita(civ_pop=True)\n",
    "invest = invest.percapita(civ_pop=True)\n",
    "hours = hours.percapita(civ_pop=True)\n",
    "capital = capital.percapita(civ_pop=True)\n",
    "\n",
    "# Put GDP, consumption, and investment in units of thousands of dollars per person\n",
    "gdp.data = gdp.data*1000\n",
    "cons.data = cons.data*1000\n",
    "invest.data = invest.data*1000\n",
    "capital.data = capital.data*1000\n",
    "\n",
    "# Scale hours per person to equal 100 on October (Quarter III) of 2009 \n",
    "hours.data = hours.data/hours.data[hours.dates.index('2009-10-01')]*100\n",
    "\n",
    "# Make sure TFP series has same length as the rest (since the .percapita() function may affect the date range.\n",
    "tfp,gdp = fp.window_equalize([tfp,gdp])\n",
    "\n",
    "# Compute and plot log real GDP, log consumption, log investment, log hours\n",
    "gdp_log = gdp.log()\n",
    "cons_log = cons.log()\n",
    "invest_log = invest.log()\n",
    "hours_log = hours.log()\n",
    "capital_log = capital.log()\n",
    "tfp_log = tfp.log()\n",
    "\n",
    "# HP filter to isolate trend and cyclical components\n",
    "gdp_log_cycle,gdp_log_trend = gdp_log.hpfilter()\n",
    "cons_log_cycle,cons_log_trend = cons_log.hpfilter()\n",
    "invest_log_cycle,invest_log_trend = invest_log.hpfilter()\n",
    "hours_log_cycle,hours_log_trend = hours_log.hpfilter()\n",
    "capital_log_cycle,capital_log_trend = capital_log.hpfilter()\n",
    "tfp_log_cycle,tfp_log_trend = tfp_log.hpfilter()"
   ]
  },
  {
   "cell_type": "code",
   "execution_count": 6,
   "metadata": {},
   "outputs": [],
   "source": [
    "# Create a DataFrame with actual and trend data\n",
    "data = pd.DataFrame({\n",
    "        'gdp':gdp.data,\n",
    "        'gdp_trend':np.exp(gdp_log_trend.data),\n",
    "        'consumption':cons.data,\n",
    "        'consumption_trend':np.exp(cons_log_trend.data),\n",
    "        'investment':invest.data,\n",
    "        'investment_trend':np.exp(invest_log_trend.data),\n",
    "        'hours':hours.data,\n",
    "        'hours_trend':np.exp(hours_log_trend.data),\n",
    "        'capital':capital.data,\n",
    "        'capital_trend':np.exp(capital_log_trend.data),\n",
    "        'tfp':tfp.data,\n",
    "        'tfp_trend':np.exp(tfp_log_trend.data),\n",
    "    },index = pd.DatetimeIndex(gdp.dates))\n",
    "\n",
    "columns_ordered =[]\n",
    "names = ['gdp','consumption','investment','hours','capital','tfp']\n",
    "for name in names:\n",
    "    columns_ordered.append(name)\n",
    "    columns_ordered.append(name+'_trend')\n",
    "    \n",
    "data[columns_ordered].to_csv('../Csv/rbc_data.csv')"
   ]
  }
 ],
 "metadata": {
  "anaconda-cloud": {},
  "kernelspec": {
   "display_name": "Python 3",
   "language": "python",
   "name": "python3"
  },
  "language_info": {
   "codemirror_mode": {
    "name": "ipython",
    "version": 3
   },
   "file_extension": ".py",
   "mimetype": "text/x-python",
   "name": "python",
   "nbconvert_exporter": "python",
   "pygments_lexer": "ipython3",
   "version": "3.7.1"
  }
 },
 "nbformat": 4,
 "nbformat_minor": 1
}
